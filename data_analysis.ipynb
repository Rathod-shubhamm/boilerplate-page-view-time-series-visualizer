{
  "nbformat": 4,
  "nbformat_minor": 0,
  "metadata": {
    "colab": {
      "provenance": [],
      "authorship_tag": "ABX9TyPRxhrA5c2HMk6r1Fe/VNlt",
      "include_colab_link": true
    },
    "kernelspec": {
      "name": "python3",
      "display_name": "Python 3"
    },
    "language_info": {
      "name": "python"
    }
  },
  "cells": [
    {
      "cell_type": "markdown",
      "metadata": {
        "id": "view-in-github",
        "colab_type": "text"
      },
      "source": [
        "<a href=\"https://colab.research.google.com/github/Rathod-shubhamm/boilerplate-page-view-time-series-visualizer/blob/main/data_analysis.ipynb\" target=\"_parent\"><img src=\"https://colab.research.google.com/assets/colab-badge.svg\" alt=\"Open In Colab\"/></a>"
      ]
    },
    {
      "cell_type": "code",
      "execution_count": 1,
      "metadata": {
        "colab": {
          "base_uri": "https://localhost:8080/"
        },
        "id": "YFbff3CpxsZ-",
        "outputId": "96d9ca9c-a212-4865-88f7-c4be7489c829"
      },
      "outputs": [
        {
          "output_type": "stream",
          "name": "stdout",
          "text": [
            "Mounted at /content/drive\n"
          ]
        }
      ],
      "source": [
        "from google.colab import drive\n",
        "drive.mount('/content/drive')"
      ]
    },
    {
      "cell_type": "code",
      "source": [
        "import pandas as pd\n",
        "df= pd.read_csv(\"/content/drive/MyDrive/datasets/medical_examination.csv\")\n",
        "print(df)"
      ],
      "metadata": {
        "colab": {
          "base_uri": "https://localhost:8080/"
        },
        "id": "abZMjV-ex0my",
        "outputId": "f5e0fc05-2272-4861-afe5-275a81a4a4e7"
      },
      "execution_count": 3,
      "outputs": [
        {
          "output_type": "stream",
          "name": "stdout",
          "text": [
            "          id    age  sex  height  weight  ap_hi  ap_lo  cholesterol  gluc  \\\n",
            "0          0  18393    2     168    62.0    110     80            1     1   \n",
            "1          1  20228    1     156    85.0    140     90            3     1   \n",
            "2          2  18857    1     165    64.0    130     70            3     1   \n",
            "3          3  17623    2     169    82.0    150    100            1     1   \n",
            "4          4  17474    1     156    56.0    100     60            1     1   \n",
            "...      ...    ...  ...     ...     ...    ...    ...          ...   ...   \n",
            "69995  99993  19240    2     168    76.0    120     80            1     1   \n",
            "69996  99995  22601    1     158   126.0    140     90            2     2   \n",
            "69997  99996  19066    2     183   105.0    180     90            3     1   \n",
            "69998  99998  22431    1     163    72.0    135     80            1     2   \n",
            "69999  99999  20540    1     170    72.0    120     80            2     1   \n",
            "\n",
            "       smoke  alco  active  cardio  \n",
            "0          0     0       1       0  \n",
            "1          0     0       1       1  \n",
            "2          0     0       0       1  \n",
            "3          0     0       1       1  \n",
            "4          0     0       0       0  \n",
            "...      ...   ...     ...     ...  \n",
            "69995      1     0       1       0  \n",
            "69996      0     0       1       1  \n",
            "69997      0     1       0       1  \n",
            "69998      0     0       0       1  \n",
            "69999      0     0       1       0  \n",
            "\n",
            "[70000 rows x 13 columns]\n"
          ]
        }
      ]
    },
    {
      "cell_type": "code",
      "source": [
        "import matplotlib.pyplot as plt\n",
        "import numpy as np\n",
        "import pandas as pd\n",
        "import seaborn as sns\n"
      ],
      "metadata": {
        "id": "2wrLYjRs1Ve2"
      },
      "execution_count": 17,
      "outputs": []
    },
    {
      "cell_type": "code",
      "source": [
        "df[\"overweight\"] = (df[\"weight\"] / (df[\"height\"] / 100) **2).astype(int)\n",
        "print(df[\"overweight\"])"
      ],
      "metadata": {
        "colab": {
          "base_uri": "https://localhost:8080/"
        },
        "id": "uqGUB_j4x0q8",
        "outputId": "6f0a4565-2792-4849-9d0b-cf3c3a2cc580"
      },
      "execution_count": 10,
      "outputs": [
        {
          "output_type": "stream",
          "name": "stdout",
          "text": [
            "0        21\n",
            "1        34\n",
            "2        23\n",
            "3        28\n",
            "4        23\n",
            "         ..\n",
            "69995    26\n",
            "69996    50\n",
            "69997    31\n",
            "69998    27\n",
            "69999    24\n",
            "Name: overweight, Length: 70000, dtype: int64\n"
          ]
        }
      ]
    },
    {
      "cell_type": "code",
      "source": [
        "df[\"cholesterol\"] = (df[\"cholesterol\"] > 1).astype(int)\n",
        "df[\"gluc\"] = (df[\"gluc\"] > 1).astype(int)\n",
        "print(df)"
      ],
      "metadata": {
        "colab": {
          "base_uri": "https://localhost:8080/"
        },
        "id": "z3VgaSzgx00X",
        "outputId": "004fdc28-4eb6-4444-e760-4dd30fefc246"
      },
      "execution_count": 13,
      "outputs": [
        {
          "output_type": "stream",
          "name": "stdout",
          "text": [
            "          id    age  sex  height  weight  ap_hi  ap_lo  cholesterol  gluc  \\\n",
            "0          0  18393    2     168    62.0    110     80            0     0   \n",
            "1          1  20228    1     156    85.0    140     90            1     0   \n",
            "2          2  18857    1     165    64.0    130     70            1     0   \n",
            "3          3  17623    2     169    82.0    150    100            0     0   \n",
            "4          4  17474    1     156    56.0    100     60            0     0   \n",
            "...      ...    ...  ...     ...     ...    ...    ...          ...   ...   \n",
            "69995  99993  19240    2     168    76.0    120     80            0     0   \n",
            "69996  99995  22601    1     158   126.0    140     90            1     1   \n",
            "69997  99996  19066    2     183   105.0    180     90            1     0   \n",
            "69998  99998  22431    1     163    72.0    135     80            0     1   \n",
            "69999  99999  20540    1     170    72.0    120     80            1     0   \n",
            "\n",
            "       smoke  alco  active  cardio  overweight  \n",
            "0          0     0       1       0          21  \n",
            "1          0     0       1       1          34  \n",
            "2          0     0       0       1          23  \n",
            "3          0     0       1       1          28  \n",
            "4          0     0       0       0          23  \n",
            "...      ...   ...     ...     ...         ...  \n",
            "69995      1     0       1       0          26  \n",
            "69996      0     0       1       1          50  \n",
            "69997      0     1       0       1          31  \n",
            "69998      0     0       0       1          27  \n",
            "69999      0     0       1       0          24  \n",
            "\n",
            "[70000 rows x 14 columns]\n"
          ]
        }
      ]
    },
    {
      "cell_type": "code",
      "source": [
        "def draw_cat_plot():\n",
        "   df_cat = pd.melt(df, id_vars = [\"cardio\"], value_vars = [\"active\" , 'alco' , 'smoke' ,'gluc' , 'active', 'overweight' ])\n",
        "   df_cat = df_cat.groupby([\"cardio\" , 'variable' , 'value']).size().reset_index(name = \"total\")\n",
        "\n",
        "   graph = sns.catplot(data = df_cat,\n",
        "                    kind = \"bar\" ,\n",
        "                    x = \"variable\",\n",
        "                    y = \"total\",\n",
        "                    hue = 'value',\n",
        "                    col ='cardio')\n",
        "   fig = graph.fig\n",
        "   plt.show()"
      ],
      "metadata": {
        "id": "WYvCGX78x02p"
      },
      "execution_count": 50,
      "outputs": []
    },
    {
      "cell_type": "code",
      "source": [],
      "metadata": {
        "colab": {
          "base_uri": "https://localhost:8080/",
          "height": 483
        },
        "id": "MiWp1_fl0w1q",
        "outputId": "7674e944-d3e1-4ebe-d8aa-7616dbe69991"
      },
      "execution_count": 46,
      "outputs": [
        {
          "output_type": "display_data",
          "data": {
            "text/plain": [
              "<Figure size 1076.38x500 with 2 Axes>"
            ],
            "image/png": "[encoded data removed]"
          },
          "metadata": {}
        }
      ]
    }
  ]
}